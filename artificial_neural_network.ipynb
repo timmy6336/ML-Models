{
  "cells": [
    {
      "cell_type": "markdown",
      "metadata": {
        "colab_type": "text",
        "id": "lP6JLo1tGNBg"
      },
      "source": [
        "# Artificial Neural Network"
      ]
    },
    {
      "cell_type": "markdown",
      "metadata": {
        "colab_type": "text",
        "id": "gWZyYmS_UE_L"
      },
      "source": [
        "### Importing the libraries"
      ]
    },
    {
      "cell_type": "code",
      "execution_count": 134,
      "metadata": {},
      "outputs": [],
      "source": [
        "import pandas as pd\n",
        "import numpy as np \n",
        "import tensorflow as tf"
      ]
    },
    {
      "cell_type": "code",
      "execution_count": 135,
      "metadata": {},
      "outputs": [
        {
          "data": {
            "text/plain": [
              "'2.10.0'"
            ]
          },
          "execution_count": 135,
          "metadata": {},
          "output_type": "execute_result"
        }
      ],
      "source": [
        "tf.__version__"
      ]
    },
    {
      "cell_type": "markdown",
      "metadata": {
        "colab_type": "text",
        "id": "1E0Q3aoKUCRX"
      },
      "source": [
        "## Part 1 - Data Preprocessing"
      ]
    },
    {
      "cell_type": "markdown",
      "metadata": {
        "colab_type": "text",
        "id": "cKWAkFVGUU0Z"
      },
      "source": [
        "### Importing the dataset"
      ]
    },
    {
      "cell_type": "code",
      "execution_count": 136,
      "metadata": {},
      "outputs": [
        {
          "data": {
            "text/plain": [
              "pandas.core.frame.DataFrame"
            ]
          },
          "execution_count": 136,
          "metadata": {},
          "output_type": "execute_result"
        }
      ],
      "source": [
        "df = pd.read_csv(\"Churn_Modelling.csv\")\n",
        "type(df)"
      ]
    },
    {
      "cell_type": "code",
      "execution_count": 137,
      "metadata": {},
      "outputs": [],
      "source": [
        "X = df.iloc[:,:-1]\n",
        "X = df.iloc[:, 3:-1].values\n",
        "y = df.iloc[:, -1].values"
      ]
    },
    {
      "cell_type": "code",
      "execution_count": 138,
      "metadata": {},
      "outputs": [
        {
          "data": {
            "text/plain": [
              "numpy.ndarray"
            ]
          },
          "execution_count": 138,
          "metadata": {},
          "output_type": "execute_result"
        }
      ],
      "source": [
        "type(X)"
      ]
    },
    {
      "cell_type": "code",
      "execution_count": 139,
      "metadata": {},
      "outputs": [
        {
          "name": "stdout",
          "output_type": "stream",
          "text": [
            "[[619 'France' 'Female' ... 1 1 101348.88]\n",
            " [608 'Spain' 'Female' ... 0 1 112542.58]\n",
            " [502 'France' 'Female' ... 1 0 113931.57]\n",
            " ...\n",
            " [709 'France' 'Female' ... 0 1 42085.58]\n",
            " [772 'Germany' 'Male' ... 1 0 92888.52]\n",
            " [792 'France' 'Female' ... 1 0 38190.78]]\n"
          ]
        }
      ],
      "source": [
        "print(X)"
      ]
    },
    {
      "cell_type": "code",
      "execution_count": 140,
      "metadata": {},
      "outputs": [
        {
          "name": "stdout",
          "output_type": "stream",
          "text": [
            "[1 0 1 ... 1 1 0]\n"
          ]
        }
      ],
      "source": [
        "print(y)"
      ]
    },
    {
      "cell_type": "markdown",
      "metadata": {
        "colab_type": "text",
        "id": "N6bQ0UgSU-NJ"
      },
      "source": [
        "### Encoding categorical data"
      ]
    },
    {
      "cell_type": "code",
      "execution_count": 141,
      "metadata": {},
      "outputs": [],
      "source": [
        "from sklearn.preprocessing import LabelEncoder\n",
        "le = LabelEncoder()\n",
        "X[:,2] = le.fit_transform(X[:,2])"
      ]
    },
    {
      "cell_type": "code",
      "execution_count": 142,
      "metadata": {},
      "outputs": [
        {
          "name": "stdout",
          "output_type": "stream",
          "text": [
            "[[619 'France' 0 ... 1 1 101348.88]\n",
            " [608 'Spain' 0 ... 0 1 112542.58]\n",
            " [502 'France' 0 ... 1 0 113931.57]\n",
            " ...\n",
            " [709 'France' 0 ... 0 1 42085.58]\n",
            " [772 'Germany' 1 ... 1 0 92888.52]\n",
            " [792 'France' 0 ... 1 0 38190.78]]\n"
          ]
        }
      ],
      "source": [
        "print(X)"
      ]
    },
    {
      "cell_type": "markdown",
      "metadata": {
        "colab_type": "text",
        "id": "le5MJreAbW52"
      },
      "source": [
        "Label Encoding the \"Gender\" column"
      ]
    },
    {
      "cell_type": "markdown",
      "metadata": {
        "colab_type": "text",
        "id": "CUxGZezpbMcb"
      },
      "source": [
        "One Hot Encoding the \"Geography\" column"
      ]
    },
    {
      "cell_type": "code",
      "execution_count": 143,
      "metadata": {},
      "outputs": [],
      "source": [
        "from sklearn.compose import ColumnTransformer\n",
        "from sklearn.preprocessing import OneHotEncoder\n",
        "ct = ColumnTransformer(transformers=[('encoder', OneHotEncoder(), [1])], remainder='passthrough')\n",
        "X = np.array(ct.fit_transform(X))"
      ]
    },
    {
      "cell_type": "code",
      "execution_count": 144,
      "metadata": {},
      "outputs": [
        {
          "name": "stdout",
          "output_type": "stream",
          "text": [
            "[[1.0 0.0 0.0 ... 1 1 101348.88]\n",
            " [0.0 0.0 1.0 ... 0 1 112542.58]\n",
            " [1.0 0.0 0.0 ... 1 0 113931.57]\n",
            " ...\n",
            " [1.0 0.0 0.0 ... 0 1 42085.58]\n",
            " [0.0 1.0 0.0 ... 1 0 92888.52]\n",
            " [1.0 0.0 0.0 ... 1 0 38190.78]]\n"
          ]
        }
      ],
      "source": [
        "print(X)"
      ]
    },
    {
      "cell_type": "markdown",
      "metadata": {
        "colab_type": "text",
        "id": "vHol938cW8zd"
      },
      "source": [
        "### Splitting the dataset into the Training set and Test set"
      ]
    },
    {
      "cell_type": "code",
      "execution_count": 145,
      "metadata": {},
      "outputs": [],
      "source": [
        "from sklearn.model_selection import train_test_split\n",
        "X_train, X_test, y_train, y_test = train_test_split(X, y, test_size = 0.2, random_state = 0)"
      ]
    },
    {
      "cell_type": "markdown",
      "metadata": {
        "colab_type": "text",
        "id": "RE_FcHyfV3TQ"
      },
      "source": [
        "### Feature Scaling"
      ]
    },
    {
      "cell_type": "code",
      "execution_count": 146,
      "metadata": {},
      "outputs": [],
      "source": [
        "from sklearn.preprocessing import StandardScaler\n",
        "sc = StandardScaler()\n",
        "X_train = sc.fit_transform(X_train)\n",
        "X_test = sc.transform(X_test)"
      ]
    },
    {
      "cell_type": "markdown",
      "metadata": {
        "colab_type": "text",
        "id": "-zfEzkRVXIwF"
      },
      "source": [
        "## Part 2 - Building the ANN"
      ]
    },
    {
      "cell_type": "code",
      "execution_count": 147,
      "metadata": {},
      "outputs": [],
      "source": [
        "##Hyper Paramaters\n",
        "HiddenLayerOneSize = 6\n",
        "HiddenLayerTwoSize = 6\n",
        "outputSize = 1\n",
        "activationFunction = 'relu'"
      ]
    },
    {
      "cell_type": "markdown",
      "metadata": {
        "colab_type": "text",
        "id": "KvdeScabXtlB"
      },
      "source": [
        "### Initializing the ANN"
      ]
    },
    {
      "cell_type": "code",
      "execution_count": 148,
      "metadata": {},
      "outputs": [],
      "source": [
        "ann = tf.keras.models.Sequential()"
      ]
    },
    {
      "cell_type": "markdown",
      "metadata": {
        "colab_type": "text",
        "id": "rP6urV6SX7kS"
      },
      "source": [
        "### Adding the input layer and the first hidden layer"
      ]
    },
    {
      "cell_type": "code",
      "execution_count": 149,
      "metadata": {},
      "outputs": [],
      "source": [
        "ann.add(tf.keras.layers.Dense(units=HiddenLayerOneSize,activation=activationFunction))"
      ]
    },
    {
      "cell_type": "markdown",
      "metadata": {
        "colab_type": "text",
        "id": "BELWAc_8YJze"
      },
      "source": [
        "### Adding the second hidden layer"
      ]
    },
    {
      "cell_type": "code",
      "execution_count": 150,
      "metadata": {},
      "outputs": [],
      "source": [
        "ann.add(tf.keras.layers.Dense(units=HiddenLayerTwoSize,activation=activationFunction))"
      ]
    },
    {
      "cell_type": "markdown",
      "metadata": {
        "colab_type": "text",
        "id": "OyNEe6RXYcU4"
      },
      "source": [
        "### Adding the output layer"
      ]
    },
    {
      "cell_type": "code",
      "execution_count": 151,
      "metadata": {},
      "outputs": [],
      "source": [
        "ann.add(tf.keras.layers.Dense(units=outputSize,activation='sigmoid'))"
      ]
    },
    {
      "cell_type": "markdown",
      "metadata": {
        "colab_type": "text",
        "id": "JT4u2S1_Y4WG"
      },
      "source": [
        "## Part 3 - Training the ANN"
      ]
    },
    {
      "cell_type": "markdown",
      "metadata": {
        "colab_type": "text",
        "id": "8GWlJChhY_ZI"
      },
      "source": [
        "### Compiling the ANN"
      ]
    },
    {
      "cell_type": "code",
      "execution_count": 152,
      "metadata": {},
      "outputs": [],
      "source": [
        "ann.compile(optimizer = \"adam\",loss = 'binary_crossentropy',metrics = ['accuracy'])"
      ]
    },
    {
      "cell_type": "markdown",
      "metadata": {
        "colab_type": "text",
        "id": "0QR_G5u7ZLSM"
      },
      "source": [
        "### Training the ANN on the Training set"
      ]
    },
    {
      "cell_type": "code",
      "execution_count": 153,
      "metadata": {},
      "outputs": [
        {
          "name": "stdout",
          "output_type": "stream",
          "text": [
            "Epoch 1/100\n",
            "250/250 [==============================] - 0s 755us/step - loss: 0.6744 - accuracy: 0.6274\n",
            "Epoch 2/100\n",
            "250/250 [==============================] - 0s 731us/step - loss: 0.5105 - accuracy: 0.7989\n",
            "Epoch 3/100\n",
            "250/250 [==============================] - 0s 735us/step - loss: 0.4571 - accuracy: 0.8096\n",
            "Epoch 4/100\n",
            "250/250 [==============================] - 0s 732us/step - loss: 0.4279 - accuracy: 0.8138\n",
            "Epoch 5/100\n",
            "250/250 [==============================] - 0s 745us/step - loss: 0.4058 - accuracy: 0.8223\n",
            "Epoch 6/100\n",
            "250/250 [==============================] - 0s 737us/step - loss: 0.3879 - accuracy: 0.8364\n",
            "Epoch 7/100\n",
            "250/250 [==============================] - 0s 737us/step - loss: 0.3755 - accuracy: 0.8456\n",
            "Epoch 8/100\n",
            "250/250 [==============================] - 0s 733us/step - loss: 0.3672 - accuracy: 0.8499\n",
            "Epoch 9/100\n",
            "250/250 [==============================] - 0s 729us/step - loss: 0.3614 - accuracy: 0.8516\n",
            "Epoch 10/100\n",
            "250/250 [==============================] - 0s 749us/step - loss: 0.3570 - accuracy: 0.8543\n",
            "Epoch 11/100\n",
            "250/250 [==============================] - 0s 735us/step - loss: 0.3537 - accuracy: 0.8565\n",
            "Epoch 12/100\n",
            "250/250 [==============================] - 0s 729us/step - loss: 0.3516 - accuracy: 0.8559\n",
            "Epoch 13/100\n",
            "250/250 [==============================] - 0s 755us/step - loss: 0.3493 - accuracy: 0.8587\n",
            "Epoch 14/100\n",
            "250/250 [==============================] - 0s 829us/step - loss: 0.3474 - accuracy: 0.8597\n",
            "Epoch 15/100\n",
            "250/250 [==============================] - 0s 841us/step - loss: 0.3456 - accuracy: 0.8590\n",
            "Epoch 16/100\n",
            "250/250 [==============================] - 0s 825us/step - loss: 0.3441 - accuracy: 0.8600\n",
            "Epoch 17/100\n",
            "250/250 [==============================] - 0s 741us/step - loss: 0.3433 - accuracy: 0.8601\n",
            "Epoch 18/100\n",
            "250/250 [==============================] - 0s 740us/step - loss: 0.3423 - accuracy: 0.8614\n",
            "Epoch 19/100\n",
            "250/250 [==============================] - 0s 728us/step - loss: 0.3418 - accuracy: 0.8614\n",
            "Epoch 20/100\n",
            "250/250 [==============================] - 0s 747us/step - loss: 0.3408 - accuracy: 0.8616\n",
            "Epoch 21/100\n",
            "250/250 [==============================] - 0s 729us/step - loss: 0.3404 - accuracy: 0.8610\n",
            "Epoch 22/100\n",
            "250/250 [==============================] - 0s 733us/step - loss: 0.3394 - accuracy: 0.8625\n",
            "Epoch 23/100\n",
            "250/250 [==============================] - 0s 829us/step - loss: 0.3394 - accuracy: 0.8611\n",
            "Epoch 24/100\n",
            "250/250 [==============================] - 0s 725us/step - loss: 0.3390 - accuracy: 0.8626\n",
            "Epoch 25/100\n",
            "250/250 [==============================] - 0s 737us/step - loss: 0.3382 - accuracy: 0.8627\n",
            "Epoch 26/100\n",
            "250/250 [==============================] - 0s 718us/step - loss: 0.3381 - accuracy: 0.8631\n",
            "Epoch 27/100\n",
            "250/250 [==============================] - 0s 734us/step - loss: 0.3376 - accuracy: 0.8620\n",
            "Epoch 28/100\n",
            "250/250 [==============================] - 0s 739us/step - loss: 0.3378 - accuracy: 0.8633\n",
            "Epoch 29/100\n",
            "250/250 [==============================] - 0s 783us/step - loss: 0.3373 - accuracy: 0.8630\n",
            "Epoch 30/100\n",
            "250/250 [==============================] - 0s 741us/step - loss: 0.3371 - accuracy: 0.8630\n",
            "Epoch 31/100\n",
            "250/250 [==============================] - 0s 741us/step - loss: 0.3374 - accuracy: 0.8646\n",
            "Epoch 32/100\n",
            "250/250 [==============================] - 0s 745us/step - loss: 0.3362 - accuracy: 0.8627\n",
            "Epoch 33/100\n",
            "250/250 [==============================] - 0s 741us/step - loss: 0.3370 - accuracy: 0.8624\n",
            "Epoch 34/100\n",
            "250/250 [==============================] - 0s 739us/step - loss: 0.3363 - accuracy: 0.8633\n",
            "Epoch 35/100\n",
            "250/250 [==============================] - 0s 737us/step - loss: 0.3365 - accuracy: 0.8634\n",
            "Epoch 36/100\n",
            "250/250 [==============================] - 0s 747us/step - loss: 0.3361 - accuracy: 0.8635\n",
            "Epoch 37/100\n",
            "250/250 [==============================] - 0s 717us/step - loss: 0.3358 - accuracy: 0.8636\n",
            "Epoch 38/100\n",
            "250/250 [==============================] - 0s 753us/step - loss: 0.3362 - accuracy: 0.8637\n",
            "Epoch 39/100\n",
            "250/250 [==============================] - 0s 741us/step - loss: 0.3356 - accuracy: 0.8635\n",
            "Epoch 40/100\n",
            "250/250 [==============================] - 0s 841us/step - loss: 0.3358 - accuracy: 0.8648\n",
            "Epoch 41/100\n",
            "250/250 [==============================] - 0s 745us/step - loss: 0.3355 - accuracy: 0.8640\n",
            "Epoch 42/100\n",
            "250/250 [==============================] - 0s 728us/step - loss: 0.3354 - accuracy: 0.8645\n",
            "Epoch 43/100\n",
            "250/250 [==============================] - 0s 749us/step - loss: 0.3350 - accuracy: 0.8641\n",
            "Epoch 44/100\n",
            "250/250 [==============================] - 0s 760us/step - loss: 0.3350 - accuracy: 0.8646\n",
            "Epoch 45/100\n",
            "250/250 [==============================] - 0s 745us/step - loss: 0.3349 - accuracy: 0.8640\n",
            "Epoch 46/100\n",
            "250/250 [==============================] - 0s 741us/step - loss: 0.3348 - accuracy: 0.8641\n",
            "Epoch 47/100\n",
            "250/250 [==============================] - 0s 777us/step - loss: 0.3347 - accuracy: 0.8649\n",
            "Epoch 48/100\n",
            "250/250 [==============================] - 0s 809us/step - loss: 0.3346 - accuracy: 0.8635\n",
            "Epoch 49/100\n",
            "250/250 [==============================] - 0s 776us/step - loss: 0.3344 - accuracy: 0.8639\n",
            "Epoch 50/100\n",
            "250/250 [==============================] - 0s 745us/step - loss: 0.3344 - accuracy: 0.8644\n",
            "Epoch 51/100\n",
            "250/250 [==============================] - 0s 789us/step - loss: 0.3347 - accuracy: 0.8645\n",
            "Epoch 52/100\n",
            "250/250 [==============================] - 0s 781us/step - loss: 0.3342 - accuracy: 0.8634\n",
            "Epoch 53/100\n",
            "250/250 [==============================] - 0s 734us/step - loss: 0.3340 - accuracy: 0.8629\n",
            "Epoch 54/100\n",
            "250/250 [==============================] - 0s 767us/step - loss: 0.3342 - accuracy: 0.8641\n",
            "Epoch 55/100\n",
            "250/250 [==============================] - 0s 737us/step - loss: 0.3341 - accuracy: 0.8614\n",
            "Epoch 56/100\n",
            "250/250 [==============================] - 0s 741us/step - loss: 0.3342 - accuracy: 0.8634\n",
            "Epoch 57/100\n",
            "250/250 [==============================] - 0s 737us/step - loss: 0.3343 - accuracy: 0.8635\n",
            "Epoch 58/100\n",
            "250/250 [==============================] - 0s 749us/step - loss: 0.3342 - accuracy: 0.8649\n",
            "Epoch 59/100\n",
            "250/250 [==============================] - 0s 749us/step - loss: 0.3341 - accuracy: 0.8648\n",
            "Epoch 60/100\n",
            "250/250 [==============================] - 0s 734us/step - loss: 0.3337 - accuracy: 0.8629\n",
            "Epoch 61/100\n",
            "250/250 [==============================] - 0s 748us/step - loss: 0.3346 - accuracy: 0.8629\n",
            "Epoch 62/100\n",
            "250/250 [==============================] - 0s 727us/step - loss: 0.3340 - accuracy: 0.8643\n",
            "Epoch 63/100\n",
            "250/250 [==============================] - 0s 737us/step - loss: 0.3341 - accuracy: 0.8648\n",
            "Epoch 64/100\n",
            "250/250 [==============================] - 0s 749us/step - loss: 0.3338 - accuracy: 0.8640\n",
            "Epoch 65/100\n",
            "250/250 [==============================] - 0s 741us/step - loss: 0.3335 - accuracy: 0.8645\n",
            "Epoch 66/100\n",
            "250/250 [==============================] - 0s 753us/step - loss: 0.3339 - accuracy: 0.8644\n",
            "Epoch 67/100\n",
            "250/250 [==============================] - 0s 737us/step - loss: 0.3335 - accuracy: 0.8639\n",
            "Epoch 68/100\n",
            "250/250 [==============================] - 0s 754us/step - loss: 0.3338 - accuracy: 0.8630\n",
            "Epoch 69/100\n",
            "250/250 [==============================] - 0s 741us/step - loss: 0.3336 - accuracy: 0.8641\n",
            "Epoch 70/100\n",
            "250/250 [==============================] - 0s 723us/step - loss: 0.3334 - accuracy: 0.8627\n",
            "Epoch 71/100\n",
            "250/250 [==============================] - 0s 738us/step - loss: 0.3338 - accuracy: 0.8637\n",
            "Epoch 72/100\n",
            "250/250 [==============================] - 0s 731us/step - loss: 0.3335 - accuracy: 0.8622\n",
            "Epoch 73/100\n",
            "250/250 [==============================] - 0s 733us/step - loss: 0.3337 - accuracy: 0.8639\n",
            "Epoch 74/100\n",
            "250/250 [==============================] - 0s 745us/step - loss: 0.3335 - accuracy: 0.8635\n",
            "Epoch 75/100\n",
            "250/250 [==============================] - 0s 721us/step - loss: 0.3330 - accuracy: 0.8635\n",
            "Epoch 76/100\n",
            "250/250 [==============================] - 0s 797us/step - loss: 0.3337 - accuracy: 0.8643\n",
            "Epoch 77/100\n",
            "250/250 [==============================] - 0s 740us/step - loss: 0.3333 - accuracy: 0.8646\n",
            "Epoch 78/100\n",
            "250/250 [==============================] - 0s 701us/step - loss: 0.3331 - accuracy: 0.8641\n",
            "Epoch 79/100\n",
            "250/250 [==============================] - 0s 752us/step - loss: 0.3332 - accuracy: 0.8639\n",
            "Epoch 80/100\n",
            "250/250 [==============================] - 0s 737us/step - loss: 0.3330 - accuracy: 0.8631\n",
            "Epoch 81/100\n",
            "250/250 [==============================] - 0s 741us/step - loss: 0.3333 - accuracy: 0.8648\n",
            "Epoch 82/100\n",
            "250/250 [==============================] - 0s 733us/step - loss: 0.3332 - accuracy: 0.8639\n",
            "Epoch 83/100\n",
            "250/250 [==============================] - 0s 745us/step - loss: 0.3333 - accuracy: 0.8649\n",
            "Epoch 84/100\n",
            "250/250 [==============================] - 0s 741us/step - loss: 0.3331 - accuracy: 0.8639\n",
            "Epoch 85/100\n",
            "250/250 [==============================] - 0s 749us/step - loss: 0.3330 - accuracy: 0.8641\n",
            "Epoch 86/100\n",
            "250/250 [==============================] - 0s 732us/step - loss: 0.3327 - accuracy: 0.8652\n",
            "Epoch 87/100\n",
            "250/250 [==============================] - 0s 763us/step - loss: 0.3330 - accuracy: 0.8630\n",
            "Epoch 88/100\n",
            "250/250 [==============================] - 0s 738us/step - loss: 0.3331 - accuracy: 0.8650\n",
            "Epoch 89/100\n",
            "250/250 [==============================] - 0s 738us/step - loss: 0.3328 - accuracy: 0.8644\n",
            "Epoch 90/100\n",
            "250/250 [==============================] - 0s 749us/step - loss: 0.3328 - accuracy: 0.8645\n",
            "Epoch 91/100\n",
            "250/250 [==============================] - 0s 745us/step - loss: 0.3329 - accuracy: 0.8649\n",
            "Epoch 92/100\n",
            "250/250 [==============================] - 0s 749us/step - loss: 0.3328 - accuracy: 0.8644\n",
            "Epoch 93/100\n",
            "250/250 [==============================] - 0s 717us/step - loss: 0.3328 - accuracy: 0.8654\n",
            "Epoch 94/100\n",
            "250/250 [==============================] - 0s 741us/step - loss: 0.3329 - accuracy: 0.8641\n",
            "Epoch 95/100\n",
            "250/250 [==============================] - 0s 729us/step - loss: 0.3328 - accuracy: 0.8645\n",
            "Epoch 96/100\n",
            "250/250 [==============================] - 0s 737us/step - loss: 0.3330 - accuracy: 0.8646\n",
            "Epoch 97/100\n",
            "250/250 [==============================] - 0s 737us/step - loss: 0.3330 - accuracy: 0.8637\n",
            "Epoch 98/100\n",
            "250/250 [==============================] - 0s 741us/step - loss: 0.3325 - accuracy: 0.8640\n",
            "Epoch 99/100\n",
            "250/250 [==============================] - 0s 757us/step - loss: 0.3329 - accuracy: 0.8631\n",
            "Epoch 100/100\n",
            "250/250 [==============================] - 0s 805us/step - loss: 0.3329 - accuracy: 0.8650\n"
          ]
        },
        {
          "data": {
            "text/plain": [
              "<keras.callbacks.History at 0x26cc2570e08>"
            ]
          },
          "execution_count": 153,
          "metadata": {},
          "output_type": "execute_result"
        }
      ],
      "source": [
        "ann.fit(X_train,y_train, batch_size = 32, epochs=100)"
      ]
    },
    {
      "cell_type": "markdown",
      "metadata": {
        "colab_type": "text",
        "id": "tJj5k2MxZga3"
      },
      "source": [
        "## Part 4 - Making the predictions and evaluating the model"
      ]
    },
    {
      "cell_type": "markdown",
      "metadata": {
        "colab_type": "text",
        "id": "84QFoqGYeXHL"
      },
      "source": [
        "### Predicting the result of a single observation"
      ]
    },
    {
      "cell_type": "markdown",
      "metadata": {
        "colab_type": "text",
        "id": "CGRo3eacgDdC"
      },
      "source": [
        "**Homework**\n",
        "\n",
        "Use our ANN model to predict if the customer with the following informations will leave the bank: \n",
        "\n",
        "Geography: France\n",
        "\n",
        "Credit Score: 600\n",
        "\n",
        "Gender: Male\n",
        "\n",
        "Age: 40 years old\n",
        "\n",
        "Tenure: 3 years\n",
        "\n",
        "Balance: \\$ 60000\n",
        "\n",
        "Number of Products: 2\n",
        "\n",
        "Does this customer have a credit card ? Yes\n",
        "\n",
        "Is this customer an Active Member: Yes\n",
        "\n",
        "Estimated Salary: \\$ 50000\n",
        "\n",
        "So, should we say goodbye to that customer ?"
      ]
    },
    {
      "cell_type": "markdown",
      "metadata": {
        "colab_type": "text",
        "id": "ZhU1LTgPg-kH"
      },
      "source": [
        "**Solution**"
      ]
    },
    {
      "cell_type": "code",
      "execution_count": 154,
      "metadata": {},
      "outputs": [
        {
          "name": "stdout",
          "output_type": "stream",
          "text": [
            "1/1 [==============================] - 0s 51ms/step\n"
          ]
        }
      ],
      "source": [
        "prediction = ann.predict(sc.transform([[1, 0, 0, 600, 1, 40, 3, 60000, 2, 1, 1, 50000]])) > 0.5"
      ]
    },
    {
      "cell_type": "code",
      "execution_count": 155,
      "metadata": {},
      "outputs": [
        {
          "data": {
            "text/plain": [
              "array([[False]])"
            ]
          },
          "execution_count": 155,
          "metadata": {},
          "output_type": "execute_result"
        }
      ],
      "source": [
        "prediction"
      ]
    },
    {
      "cell_type": "markdown",
      "metadata": {
        "colab_type": "text",
        "id": "wGjx94g2n7OV"
      },
      "source": [
        "Therefore, our ANN model predicts that this customer stays in the bank!\n",
        "\n",
        "**Important note 1:** Notice that the values of the features were all input in a double pair of square brackets. That's because the \"predict\" method always expects a 2D array as the format of its inputs. And putting our values into a double pair of square brackets makes the input exactly a 2D array.\n",
        "\n",
        "**Important note 2:** Notice also that the \"France\" country was not input as a string in the last column but as \"1, 0, 0\" in the first three columns. That's because of course the predict method expects the one-hot-encoded values of the state, and as we see in the first row of the matrix of features X, \"France\" was encoded as \"1, 0, 0\". And be careful to include these values in the first three columns, because the dummy variables are always created in the first columns."
      ]
    },
    {
      "cell_type": "markdown",
      "metadata": {
        "colab_type": "text",
        "id": "u7yx47jPZt11"
      },
      "source": [
        "### Predicting the Test set results"
      ]
    },
    {
      "cell_type": "code",
      "execution_count": 156,
      "metadata": {},
      "outputs": [
        {
          "name": "stdout",
          "output_type": "stream",
          "text": [
            "63/63 [==============================] - 0s 563us/step\n",
            "[[0 0]\n",
            " [0 1]\n",
            " [0 0]\n",
            " ...\n",
            " [0 0]\n",
            " [0 0]\n",
            " [0 0]]\n"
          ]
        }
      ],
      "source": [
        "y_hat = ann.predict(X_test)\n",
        "y_hat = (y_hat > .5)\n",
        "print(np.concatenate((y_hat.reshape(len(y_hat),1),y_test.reshape(len(y_test),1)),1))"
      ]
    },
    {
      "cell_type": "markdown",
      "metadata": {
        "colab_type": "text",
        "id": "o0oyfLWoaEGw"
      },
      "source": [
        "### Making the Confusion Matrix"
      ]
    },
    {
      "cell_type": "code",
      "execution_count": 157,
      "metadata": {},
      "outputs": [],
      "source": [
        "from sklearn.metrics import confusion_matrix, accuracy_score\n",
        "cm = confusion_matrix(y_pred=y_hat,y_true=y_test)\n",
        "acs = accuracy_score(y_pred=y_hat,y_true=y_test)"
      ]
    },
    {
      "cell_type": "code",
      "execution_count": 158,
      "metadata": {},
      "outputs": [
        {
          "data": {
            "text/plain": [
              "array([[1511,   84],\n",
              "       [ 195,  210]], dtype=int64)"
            ]
          },
          "execution_count": 158,
          "metadata": {},
          "output_type": "execute_result"
        }
      ],
      "source": [
        "cm"
      ]
    },
    {
      "cell_type": "code",
      "execution_count": 159,
      "metadata": {},
      "outputs": [
        {
          "data": {
            "text/plain": [
              "0.8605"
            ]
          },
          "execution_count": 159,
          "metadata": {},
          "output_type": "execute_result"
        }
      ],
      "source": [
        "acs"
      ]
    }
  ],
  "metadata": {
    "colab": {
      "collapsed_sections": [],
      "name": "artificial_neural_network.ipynb",
      "provenance": [],
      "toc_visible": true
    },
    "kernelspec": {
      "display_name": "myenv",
      "language": "python",
      "name": "python3"
    },
    "language_info": {
      "codemirror_mode": {
        "name": "ipython",
        "version": 3
      },
      "file_extension": ".py",
      "mimetype": "text/x-python",
      "name": "python",
      "nbconvert_exporter": "python",
      "pygments_lexer": "ipython3",
      "version": "3.7.11"
    },
    "vscode": {
      "interpreter": {
        "hash": "ace8fad4a2e671100a3afcb00319fbfdfcf777dcb8abe31e4a2ad1f9e882fb12"
      }
    }
  },
  "nbformat": 4,
  "nbformat_minor": 0
}
