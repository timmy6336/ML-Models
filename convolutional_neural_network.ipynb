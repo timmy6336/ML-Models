{
  "cells": [
    {
      "cell_type": "markdown",
      "metadata": {
        "colab_type": "text",
        "id": "3DR-eO17geWu"
      },
      "source": [
        "# Convolutional Neural Network"
      ]
    },
    {
      "cell_type": "markdown",
      "metadata": {
        "colab_type": "text",
        "id": "EMefrVPCg-60"
      },
      "source": [
        "### Importing the libraries"
      ]
    },
    {
      "cell_type": "code",
      "execution_count": 171,
      "metadata": {},
      "outputs": [
        {
          "name": "stdout",
          "output_type": "stream",
          "text": [
            "2.10.0\n"
          ]
        }
      ],
      "source": [
        "import pandas as pd\n",
        "import numpy as np\n",
        "import tensorflow as tf\n",
        "from keras.preprocessing.image import ImageDataGenerator\n",
        "from keras.preprocessing import image\n",
        "print(tf.__version__)"
      ]
    },
    {
      "cell_type": "markdown",
      "metadata": {
        "colab_type": "text",
        "id": "oxQxCBWyoGPE"
      },
      "source": [
        "## Part 1 - Data Preprocessing"
      ]
    },
    {
      "cell_type": "markdown",
      "metadata": {
        "colab_type": "text",
        "id": "MvE-heJNo3GG"
      },
      "source": [
        "### Preprocessing the Training set"
      ]
    },
    {
      "cell_type": "code",
      "execution_count": 172,
      "metadata": {},
      "outputs": [
        {
          "name": "stdout",
          "output_type": "stream",
          "text": [
            "Found 8000 images belonging to 2 classes.\n"
          ]
        }
      ],
      "source": [
        "train_datagen = ImageDataGenerator(\n",
        "        rescale=1./255,\n",
        "        shear_range=0.2,\n",
        "        zoom_range=0.2,\n",
        "        horizontal_flip=True)\n",
        "training_set = train_datagen.flow_from_directory(\n",
        "    'dataset/training_set',\n",
        "    target_size=(64,64),\n",
        "    batch_size=32,\n",
        "    class_mode='binary'\n",
        ")"
      ]
    },
    {
      "cell_type": "markdown",
      "metadata": {
        "colab_type": "text",
        "id": "mrCMmGw9pHys"
      },
      "source": [
        "### Preprocessing the Test set"
      ]
    },
    {
      "cell_type": "code",
      "execution_count": 173,
      "metadata": {},
      "outputs": [
        {
          "name": "stdout",
          "output_type": "stream",
          "text": [
            "Found 2000 images belonging to 2 classes.\n"
          ]
        }
      ],
      "source": [
        "test_datagen = ImageDataGenerator(rescale=1./255)\n",
        "test_set = test_datagen.flow_from_directory(\n",
        "    'dataset/test_set',\n",
        "    target_size=(64,64),\n",
        "    batch_size=32,\n",
        "    class_mode='binary'\n",
        ")"
      ]
    },
    {
      "cell_type": "markdown",
      "metadata": {
        "colab_type": "text",
        "id": "af8O4l90gk7B"
      },
      "source": [
        "## Part 2 - Building the CNN"
      ]
    },
    {
      "cell_type": "markdown",
      "metadata": {
        "colab_type": "text",
        "id": "ces1gXY2lmoX"
      },
      "source": [
        "### Initialising the CNN"
      ]
    },
    {
      "cell_type": "code",
      "execution_count": 174,
      "metadata": {},
      "outputs": [],
      "source": [
        "cnn = tf.keras.Sequential()"
      ]
    },
    {
      "cell_type": "markdown",
      "metadata": {
        "colab_type": "text",
        "id": "u5YJj_XMl5LF"
      },
      "source": [
        "### Step 1 - Convolution"
      ]
    },
    {
      "cell_type": "code",
      "execution_count": 175,
      "metadata": {},
      "outputs": [],
      "source": [
        "cnn.add(tf.keras.layers.Conv2D(filters=32 ,kernel_size=3,activation='relu',input_shape=(64,64,3)))"
      ]
    },
    {
      "cell_type": "markdown",
      "metadata": {
        "colab_type": "text",
        "id": "tf87FpvxmNOJ"
      },
      "source": [
        "### Step 2 - Pooling"
      ]
    },
    {
      "cell_type": "code",
      "execution_count": 176,
      "metadata": {},
      "outputs": [],
      "source": [
        "cnn.add(tf.keras.layers.MaxPooling2D(pool_size=2,strides=2))"
      ]
    },
    {
      "cell_type": "markdown",
      "metadata": {
        "colab_type": "text",
        "id": "xaTOgD8rm4mU"
      },
      "source": [
        "### Adding a second convolutional layer"
      ]
    },
    {
      "cell_type": "code",
      "execution_count": 177,
      "metadata": {},
      "outputs": [],
      "source": [
        "cnn.add(tf.keras.layers.Conv2D(filters=32 ,kernel_size=3,activation='relu'))"
      ]
    },
    {
      "cell_type": "code",
      "execution_count": 178,
      "metadata": {},
      "outputs": [],
      "source": [
        "cnn.add(tf.keras.layers.MaxPooling2D(pool_size=2,strides=2))"
      ]
    },
    {
      "cell_type": "markdown",
      "metadata": {
        "colab_type": "text",
        "id": "tmiEuvTunKfk"
      },
      "source": [
        "### Step 3 - Flattening"
      ]
    },
    {
      "cell_type": "code",
      "execution_count": 179,
      "metadata": {},
      "outputs": [],
      "source": [
        "cnn.add(tf.keras.layers.Flatten())"
      ]
    },
    {
      "cell_type": "code",
      "execution_count": 180,
      "metadata": {},
      "outputs": [
        {
          "data": {
            "text/plain": [
              "(None, 6272)"
            ]
          },
          "execution_count": 180,
          "metadata": {},
          "output_type": "execute_result"
        }
      ],
      "source": [
        "cnn.output_shape"
      ]
    },
    {
      "cell_type": "markdown",
      "metadata": {
        "colab_type": "text",
        "id": "dAoSECOm203v"
      },
      "source": [
        "### Step 4 - Full Connection"
      ]
    },
    {
      "cell_type": "code",
      "execution_count": 181,
      "metadata": {},
      "outputs": [],
      "source": [
        "cnn.add(tf.keras.layers.Dense(units=128,activation='relu'))"
      ]
    },
    {
      "cell_type": "markdown",
      "metadata": {
        "colab_type": "text",
        "id": "yTldFvbX28Na"
      },
      "source": [
        "### Step 5 - Output Layer"
      ]
    },
    {
      "cell_type": "code",
      "execution_count": 182,
      "metadata": {},
      "outputs": [],
      "source": [
        "cnn.add(tf.keras.layers.Dense(units=1,activation='sigmoid'))"
      ]
    },
    {
      "cell_type": "markdown",
      "metadata": {
        "colab_type": "text",
        "id": "D6XkI90snSDl"
      },
      "source": [
        "## Part 3 - Training the CNN"
      ]
    },
    {
      "cell_type": "markdown",
      "metadata": {
        "colab_type": "text",
        "id": "vfrFQACEnc6i"
      },
      "source": [
        "### Compiling the CNN"
      ]
    },
    {
      "cell_type": "code",
      "execution_count": 183,
      "metadata": {},
      "outputs": [],
      "source": [
        "cnn.compile(optimizer = \"adam\",loss = 'binary_crossentropy',metrics = ['accuracy'])"
      ]
    },
    {
      "cell_type": "markdown",
      "metadata": {
        "colab_type": "text",
        "id": "ehS-v3MIpX2h"
      },
      "source": [
        "### Training the CNN on the Training set and evaluating it on the Test set"
      ]
    },
    {
      "cell_type": "code",
      "execution_count": 184,
      "metadata": {},
      "outputs": [
        {
          "name": "stdout",
          "output_type": "stream",
          "text": [
            "Epoch 1/25\n",
            "250/250 [==============================] - 33s 128ms/step - loss: 0.6785 - accuracy: 0.5714 - val_loss: 0.6268 - val_accuracy: 0.6475\n",
            "Epoch 2/25\n",
            "250/250 [==============================] - 28s 113ms/step - loss: 0.6187 - accuracy: 0.6557 - val_loss: 0.6305 - val_accuracy: 0.6560\n",
            "Epoch 3/25\n",
            "250/250 [==============================] - 28s 113ms/step - loss: 0.5769 - accuracy: 0.6956 - val_loss: 0.5336 - val_accuracy: 0.7375\n",
            "Epoch 4/25\n",
            "250/250 [==============================] - 29s 116ms/step - loss: 0.5387 - accuracy: 0.7269 - val_loss: 0.5326 - val_accuracy: 0.7315\n",
            "Epoch 5/25\n",
            "250/250 [==============================] - 28s 113ms/step - loss: 0.5150 - accuracy: 0.7420 - val_loss: 0.5367 - val_accuracy: 0.7365\n",
            "Epoch 6/25\n",
            "250/250 [==============================] - 28s 113ms/step - loss: 0.4950 - accuracy: 0.7536 - val_loss: 0.5032 - val_accuracy: 0.7630\n",
            "Epoch 7/25\n",
            "250/250 [==============================] - 28s 114ms/step - loss: 0.4799 - accuracy: 0.7696 - val_loss: 0.5096 - val_accuracy: 0.7595\n",
            "Epoch 8/25\n",
            "250/250 [==============================] - 28s 114ms/step - loss: 0.4648 - accuracy: 0.7782 - val_loss: 0.4863 - val_accuracy: 0.7650\n",
            "Epoch 9/25\n",
            "250/250 [==============================] - 28s 112ms/step - loss: 0.4581 - accuracy: 0.7804 - val_loss: 0.4910 - val_accuracy: 0.7605\n",
            "Epoch 10/25\n",
            "250/250 [==============================] - 29s 114ms/step - loss: 0.4392 - accuracy: 0.7929 - val_loss: 0.4673 - val_accuracy: 0.7895\n",
            "Epoch 11/25\n",
            "250/250 [==============================] - 28s 114ms/step - loss: 0.4317 - accuracy: 0.7979 - val_loss: 0.4619 - val_accuracy: 0.7840\n",
            "Epoch 12/25\n",
            "250/250 [==============================] - 28s 113ms/step - loss: 0.4175 - accuracy: 0.8066 - val_loss: 0.4807 - val_accuracy: 0.7775\n",
            "Epoch 13/25\n",
            "250/250 [==============================] - 29s 115ms/step - loss: 0.4053 - accuracy: 0.8115 - val_loss: 0.4458 - val_accuracy: 0.7910\n",
            "Epoch 14/25\n",
            "250/250 [==============================] - 29s 114ms/step - loss: 0.4001 - accuracy: 0.8130 - val_loss: 0.4470 - val_accuracy: 0.7995\n",
            "Epoch 15/25\n",
            "250/250 [==============================] - 28s 114ms/step - loss: 0.3885 - accuracy: 0.8246 - val_loss: 0.4667 - val_accuracy: 0.7825\n",
            "Epoch 16/25\n",
            "250/250 [==============================] - 28s 114ms/step - loss: 0.3851 - accuracy: 0.8198 - val_loss: 0.4326 - val_accuracy: 0.8090\n",
            "Epoch 17/25\n",
            "250/250 [==============================] - 28s 114ms/step - loss: 0.3730 - accuracy: 0.8295 - val_loss: 0.4485 - val_accuracy: 0.7985\n",
            "Epoch 18/25\n",
            "250/250 [==============================] - 28s 113ms/step - loss: 0.3629 - accuracy: 0.8364 - val_loss: 0.5103 - val_accuracy: 0.7725\n",
            "Epoch 19/25\n",
            "250/250 [==============================] - 28s 113ms/step - loss: 0.3522 - accuracy: 0.8445 - val_loss: 0.4430 - val_accuracy: 0.7985\n",
            "Epoch 20/25\n",
            "250/250 [==============================] - 28s 114ms/step - loss: 0.3439 - accuracy: 0.8465 - val_loss: 0.4610 - val_accuracy: 0.7990\n",
            "Epoch 21/25\n",
            "250/250 [==============================] - 28s 114ms/step - loss: 0.3422 - accuracy: 0.8425 - val_loss: 0.4431 - val_accuracy: 0.8030\n",
            "Epoch 22/25\n",
            "250/250 [==============================] - 28s 113ms/step - loss: 0.3245 - accuracy: 0.8611 - val_loss: 0.4586 - val_accuracy: 0.8015\n",
            "Epoch 23/25\n",
            "250/250 [==============================] - 28s 113ms/step - loss: 0.3246 - accuracy: 0.8547 - val_loss: 0.4670 - val_accuracy: 0.8030\n",
            "Epoch 24/25\n",
            "250/250 [==============================] - 28s 112ms/step - loss: 0.3140 - accuracy: 0.8627 - val_loss: 0.5168 - val_accuracy: 0.7925\n",
            "Epoch 25/25\n",
            "250/250 [==============================] - 28s 111ms/step - loss: 0.3021 - accuracy: 0.8680 - val_loss: 0.4682 - val_accuracy: 0.8085\n"
          ]
        },
        {
          "data": {
            "text/plain": [
              "<keras.callbacks.History at 0x28c038c93c8>"
            ]
          },
          "execution_count": 184,
          "metadata": {},
          "output_type": "execute_result"
        }
      ],
      "source": [
        "cnn.fit(x = training_set,validation_data=test_set, epochs=25)"
      ]
    },
    {
      "cell_type": "markdown",
      "metadata": {
        "colab_type": "text",
        "id": "U3PZasO0006Z"
      },
      "source": [
        "## Part 4 - Making a single prediction"
      ]
    },
    {
      "cell_type": "code",
      "execution_count": 185,
      "metadata": {},
      "outputs": [],
      "source": [
        "def cat_or_dog(result):\n",
        "    if result[0][0] == 1:\n",
        "        return 'dog'\n",
        "    else:\n",
        "        return 'cat'"
      ]
    },
    {
      "cell_type": "code",
      "execution_count": 189,
      "metadata": {},
      "outputs": [],
      "source": [
        "def predict(new_image):\n",
        "    test_image = image.image_utils.load_img(new_image,target_size = (64,64))\n",
        "    test_image = image.image_utils.img_to_array(test_image)\n",
        "    test_image = np.expand_dims(test_image, axis = 0)\n",
        "    result = cnn.predict(test_image)\n",
        "    training_set.class_indices\n",
        "    return cat_or_dog(result)"
      ]
    },
    {
      "cell_type": "code",
      "execution_count": 190,
      "metadata": {},
      "outputs": [
        {
          "name": "stdout",
          "output_type": "stream",
          "text": [
            "1/1 [==============================] - 0s 58ms/step\n"
          ]
        }
      ],
      "source": [
        "\n",
        "prediction1 = predict('dataset/single_prediction/cat_or_dog_1.jpg')\n"
      ]
    },
    {
      "cell_type": "code",
      "execution_count": 191,
      "metadata": {},
      "outputs": [
        {
          "data": {
            "text/plain": [
              "'dog'"
            ]
          },
          "execution_count": 191,
          "metadata": {},
          "output_type": "execute_result"
        }
      ],
      "source": [
        "prediction1"
      ]
    },
    {
      "cell_type": "code",
      "execution_count": 192,
      "metadata": {},
      "outputs": [
        {
          "name": "stdout",
          "output_type": "stream",
          "text": [
            "1/1 [==============================] - 0s 17ms/step\n"
          ]
        }
      ],
      "source": [
        "prediction2 = predict('dataset/single_prediction/cat_or_dog_2.jpg')"
      ]
    },
    {
      "cell_type": "code",
      "execution_count": 193,
      "metadata": {},
      "outputs": [
        {
          "data": {
            "text/plain": [
              "'cat'"
            ]
          },
          "execution_count": 193,
          "metadata": {},
          "output_type": "execute_result"
        }
      ],
      "source": [
        "prediction2"
      ]
    },
    {
      "cell_type": "code",
      "execution_count": 194,
      "metadata": {},
      "outputs": [
        {
          "name": "stdout",
          "output_type": "stream",
          "text": [
            "1/1 [==============================] - 0s 16ms/step\n"
          ]
        }
      ],
      "source": [
        "prediction3 = predict('dataset/single_prediction/cat.PNG')"
      ]
    },
    {
      "cell_type": "code",
      "execution_count": 195,
      "metadata": {},
      "outputs": [
        {
          "data": {
            "text/plain": [
              "'dog'"
            ]
          },
          "execution_count": 195,
          "metadata": {},
          "output_type": "execute_result"
        }
      ],
      "source": [
        "prediction3"
      ]
    },
    {
      "cell_type": "code",
      "execution_count": 196,
      "metadata": {},
      "outputs": [
        {
          "name": "stdout",
          "output_type": "stream",
          "text": [
            "1/1 [==============================] - 0s 18ms/step\n"
          ]
        }
      ],
      "source": [
        "prediction4 = predict('dataset/single_prediction/cat_or_dog_3.jpg')"
      ]
    },
    {
      "cell_type": "code",
      "execution_count": 197,
      "metadata": {},
      "outputs": [
        {
          "data": {
            "text/plain": [
              "'dog'"
            ]
          },
          "execution_count": 197,
          "metadata": {},
          "output_type": "execute_result"
        }
      ],
      "source": [
        "prediction4"
      ]
    },
    {
      "cell_type": "code",
      "execution_count": 198,
      "metadata": {},
      "outputs": [
        {
          "name": "stdout",
          "output_type": "stream",
          "text": [
            "1/1 [==============================] - 0s 22ms/step\n"
          ]
        }
      ],
      "source": [
        "prediction5 = predict('dataset/single_prediction/cat_or_dog_4.jpg')"
      ]
    },
    {
      "cell_type": "code",
      "execution_count": 199,
      "metadata": {},
      "outputs": [
        {
          "data": {
            "text/plain": [
              "'cat'"
            ]
          },
          "execution_count": 199,
          "metadata": {},
          "output_type": "execute_result"
        }
      ],
      "source": [
        "prediction5"
      ]
    }
  ],
  "metadata": {
    "colab": {
      "collapsed_sections": [],
      "name": "convolutional_neural_network.ipynb",
      "provenance": [],
      "toc_visible": true
    },
    "kernelspec": {
      "display_name": "myenv",
      "language": "python",
      "name": "python3"
    },
    "language_info": {
      "codemirror_mode": {
        "name": "ipython",
        "version": 3
      },
      "file_extension": ".py",
      "mimetype": "text/x-python",
      "name": "python",
      "nbconvert_exporter": "python",
      "pygments_lexer": "ipython3",
      "version": "3.7.11"
    },
    "vscode": {
      "interpreter": {
        "hash": "ace8fad4a2e671100a3afcb00319fbfdfcf777dcb8abe31e4a2ad1f9e882fb12"
      }
    }
  },
  "nbformat": 4,
  "nbformat_minor": 0
}
